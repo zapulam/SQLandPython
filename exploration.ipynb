{
 "cells": [
  {
   "attachments": {},
   "cell_type": "markdown",
   "metadata": {},
   "source": [
    "## Data exploration via SQL within interactive notebook"
   ]
  },
  {
   "cell_type": "code",
   "execution_count": 1,
   "metadata": {},
   "outputs": [],
   "source": [
    "import pandas as pd"
   ]
  },
  {
   "attachments": {},
   "cell_type": "markdown",
   "metadata": {},
   "source": [
    "We will first display a portion of the data using pandas via readng the csv files"
   ]
  },
  {
   "cell_type": "code",
   "execution_count": 2,
   "metadata": {},
   "outputs": [
    {
     "data": {
      "text/html": [
       "<div>\n",
       "<style scoped>\n",
       "    .dataframe tbody tr th:only-of-type {\n",
       "        vertical-align: middle;\n",
       "    }\n",
       "\n",
       "    .dataframe tbody tr th {\n",
       "        vertical-align: top;\n",
       "    }\n",
       "\n",
       "    .dataframe thead th {\n",
       "        text-align: right;\n",
       "    }\n",
       "</style>\n",
       "<table border=\"1\" class=\"dataframe\">\n",
       "  <thead>\n",
       "    <tr style=\"text-align: right;\">\n",
       "      <th></th>\n",
       "      <th>id</th>\n",
       "      <th>title</th>\n",
       "      <th>subtitle</th>\n",
       "      <th>authors</th>\n",
       "      <th>publisher</th>\n",
       "      <th>published_date</th>\n",
       "      <th>category</th>\n",
       "    </tr>\n",
       "  </thead>\n",
       "  <tbody>\n",
       "    <tr>\n",
       "      <th>0</th>\n",
       "      <td>9.78332E+12</td>\n",
       "      <td>Essentials of Business Analytics</td>\n",
       "      <td>An Introduction to the Methodology and its App...</td>\n",
       "      <td>Bhimasankaram Pochiraju, Sridhar Seshadri</td>\n",
       "      <td>Springer</td>\n",
       "      <td>7/10/2019</td>\n",
       "      <td>Business Analytics</td>\n",
       "    </tr>\n",
       "    <tr>\n",
       "      <th>1</th>\n",
       "      <td>9.78147E+12</td>\n",
       "      <td>Business Analytics</td>\n",
       "      <td>An Introduction</td>\n",
       "      <td>Jay Liebowitz</td>\n",
       "      <td>CRC Press</td>\n",
       "      <td>12/19/2013</td>\n",
       "      <td>Business Analytics</td>\n",
       "    </tr>\n",
       "    <tr>\n",
       "      <th>2</th>\n",
       "      <td>1292017430</td>\n",
       "      <td>Key Business Analytics</td>\n",
       "      <td>The 60+ Business Analysis Tools Every Manager ...</td>\n",
       "      <td>Bernard Marr</td>\n",
       "      <td>FT Press</td>\n",
       "      <td>1/18/2016</td>\n",
       "      <td>Business Analytics</td>\n",
       "    </tr>\n",
       "  </tbody>\n",
       "</table>\n",
       "</div>"
      ],
      "text/plain": [
       "            id                             title  \\\n",
       "0  9.78332E+12  Essentials of Business Analytics   \n",
       "1  9.78147E+12                Business Analytics   \n",
       "2   1292017430            Key Business Analytics   \n",
       "\n",
       "                                            subtitle  \\\n",
       "0  An Introduction to the Methodology and its App...   \n",
       "1                                    An Introduction   \n",
       "2  The 60+ Business Analysis Tools Every Manager ...   \n",
       "\n",
       "                                     authors  publisher published_date  \\\n",
       "0  Bhimasankaram Pochiraju, Sridhar Seshadri   Springer      7/10/2019   \n",
       "1                              Jay Liebowitz  CRC Press     12/19/2013   \n",
       "2                               Bernard Marr   FT Press      1/18/2016   \n",
       "\n",
       "             category  \n",
       "0  Business Analytics  \n",
       "1  Business Analytics  \n",
       "2  Business Analytics  "
      ]
     },
     "execution_count": 2,
     "metadata": {},
     "output_type": "execute_result"
    }
   ],
   "source": [
    "# Load csv file as pandas dataframe\n",
    "\n",
    "details = pd.read_csv('data\\\\details.csv')\n",
    "details.head(3)"
   ]
  },
  {
   "attachments": {},
   "cell_type": "markdown",
   "metadata": {},
   "source": [
    "We will now connect to the *books* local database contained in the file *data/books.db"
   ]
  },
  {
   "cell_type": "code",
   "execution_count": 3,
   "metadata": {},
   "outputs": [
    {
     "data": {
      "text/plain": [
       "'Connected: @data/books.db'"
      ]
     },
     "execution_count": 3,
     "metadata": {},
     "output_type": "execute_result"
    }
   ],
   "source": [
    "# Load SQL magic and connect to local database\n",
    "\n",
    "%load_ext sql\n",
    "%sql sqlite:///data/books.db"
   ]
  },
  {
   "attachments": {},
   "cell_type": "markdown",
   "metadata": {},
   "source": [
    "We have now connected to the data_science_books.db local database and can now query the database using SQL rather than pandas as shown above. The database consists of tables with the names *details*, *description*, and *price*."
   ]
  },
  {
   "cell_type": "code",
   "execution_count": 4,
   "metadata": {},
   "outputs": [
    {
     "name": "stdout",
     "output_type": "stream",
     "text": [
      " * sqlite:///data/books.db\n",
      "Done.\n"
     ]
    },
    {
     "data": {
      "text/html": [
       "<table>\n",
       "    <thead>\n",
       "        <tr>\n",
       "            <th>index</th>\n",
       "            <th>id</th>\n",
       "            <th>title</th>\n",
       "            <th>subtitle</th>\n",
       "            <th>authors</th>\n",
       "            <th>publisher</th>\n",
       "            <th>published_date</th>\n",
       "            <th>category</th>\n",
       "        </tr>\n",
       "    </thead>\n",
       "    <tbody>\n",
       "        <tr>\n",
       "            <td>0</td>\n",
       "            <td>9.78332E+12</td>\n",
       "            <td>Essentials of Business Analytics</td>\n",
       "            <td>An Introduction to the Methodology and its Applications</td>\n",
       "            <td>Bhimasankaram Pochiraju, Sridhar Seshadri</td>\n",
       "            <td>Springer</td>\n",
       "            <td>7/10/2019</td>\n",
       "            <td>Business Analytics</td>\n",
       "        </tr>\n",
       "        <tr>\n",
       "            <td>1</td>\n",
       "            <td>9.78147E+12</td>\n",
       "            <td>Business Analytics</td>\n",
       "            <td>An Introduction</td>\n",
       "            <td>Jay Liebowitz</td>\n",
       "            <td>CRC Press</td>\n",
       "            <td>12/19/2013</td>\n",
       "            <td>Business Analytics</td>\n",
       "        </tr>\n",
       "        <tr>\n",
       "            <td>2</td>\n",
       "            <td>1292017430</td>\n",
       "            <td>Key Business Analytics</td>\n",
       "            <td>The 60+ Business Analysis Tools Every Manager Needs to Know</td>\n",
       "            <td>Bernard Marr</td>\n",
       "            <td>FT Press</td>\n",
       "            <td>1/18/2016</td>\n",
       "            <td>Business Analytics</td>\n",
       "        </tr>\n",
       "    </tbody>\n",
       "</table>"
      ],
      "text/plain": [
       "[(0, '9.78332E+12', 'Essentials of Business Analytics', 'An Introduction to the Methodology and its Applications', 'Bhimasankaram Pochiraju, Sridhar Seshadri', 'Springer', '7/10/2019', 'Business Analytics'),\n",
       " (1, '9.78147E+12', 'Business Analytics', 'An Introduction', 'Jay Liebowitz', 'CRC Press', '12/19/2013', 'Business Analytics'),\n",
       " (2, '1292017430', 'Key Business Analytics', 'The 60+ Business Analysis Tools Every Manager Needs to Know', 'Bernard Marr', 'FT Press', '1/18/2016', 'Business Analytics')]"
      ]
     },
     "execution_count": 4,
     "metadata": {},
     "output_type": "execute_result"
    }
   ],
   "source": [
    "%%sql\n",
    "select\n",
    "    *\n",
    "from details\n",
    "limit 3"
   ]
  },
  {
   "attachments": {},
   "cell_type": "markdown",
   "metadata": {},
   "source": [
    "We can now combine tables using SQL syntax"
   ]
  },
  {
   "cell_type": "code",
   "execution_count": 12,
   "metadata": {},
   "outputs": [
    {
     "name": "stdout",
     "output_type": "stream",
     "text": [
      " * sqlite:///data/books.db\n",
      "Done.\n"
     ]
    },
    {
     "data": {
      "text/html": [
       "<table>\n",
       "    <thead>\n",
       "        <tr>\n",
       "            <th>title</th>\n",
       "            <th>pages</th>\n",
       "        </tr>\n",
       "    </thead>\n",
       "    <tbody>\n",
       "        <tr>\n",
       "            <td>SAGE Research Methods Foundations</td>\n",
       "            <td>6000.0</td>\n",
       "        </tr>\n",
       "        <tr>\n",
       "            <td>Encyclopedia of Cognitive Science, 4 Volume Set</td>\n",
       "            <td>4456.0</td>\n",
       "        </tr>\n",
       "        <tr>\n",
       "            <td>Encyclopedia of Cognitive Science, 4 Volume Set</td>\n",
       "            <td>4456.0</td>\n",
       "        </tr>\n",
       "    </tbody>\n",
       "</table>"
      ],
      "text/plain": [
       "[('SAGE Research Methods Foundations', 6000.0),\n",
       " ('Encyclopedia of Cognitive Science, 4 Volume Set', 4456.0),\n",
       " ('Encyclopedia of Cognitive Science, 4 Volume Set', 4456.0)]"
      ]
     },
     "execution_count": 12,
     "metadata": {},
     "output_type": "execute_result"
    }
   ],
   "source": [
    "%%sql\n",
    "select details.title as title, description.page_count as pages\n",
    "from details\n",
    "inner join description \n",
    "using(id)\n",
    "order by pages desc\n",
    "limit 3"
   ]
  },
  {
   "cell_type": "code",
   "execution_count": null,
   "metadata": {},
   "outputs": [],
   "source": []
  }
 ],
 "metadata": {
  "kernelspec": {
   "display_name": "ds",
   "language": "python",
   "name": "python3"
  },
  "language_info": {
   "codemirror_mode": {
    "name": "ipython",
    "version": 3
   },
   "file_extension": ".py",
   "mimetype": "text/x-python",
   "name": "python",
   "nbconvert_exporter": "python",
   "pygments_lexer": "ipython3",
   "version": "3.10.8"
  },
  "orig_nbformat": 4
 },
 "nbformat": 4,
 "nbformat_minor": 2
}
