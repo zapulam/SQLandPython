{
 "cells": [
  {
   "attachments": {},
   "cell_type": "markdown",
   "metadata": {},
   "source": [
    "### Data exploration via SQL within interactive notebook"
   ]
  },
  {
   "cell_type": "code",
   "execution_count": 2,
   "metadata": {},
   "outputs": [],
   "source": [
    "# Import libraries\n",
    "\n",
    "import numpy as np\n",
    "import pandas as pd"
   ]
  },
  {
   "cell_type": "code",
   "execution_count": 3,
   "metadata": {},
   "outputs": [
    {
     "data": {
      "text/html": [
       "<div>\n",
       "<style scoped>\n",
       "    .dataframe tbody tr th:only-of-type {\n",
       "        vertical-align: middle;\n",
       "    }\n",
       "\n",
       "    .dataframe tbody tr th {\n",
       "        vertical-align: top;\n",
       "    }\n",
       "\n",
       "    .dataframe thead th {\n",
       "        text-align: right;\n",
       "    }\n",
       "</style>\n",
       "<table border=\"1\" class=\"dataframe\">\n",
       "  <thead>\n",
       "    <tr style=\"text-align: right;\">\n",
       "      <th></th>\n",
       "      <th>id</th>\n",
       "      <th>title</th>\n",
       "      <th>subtitle</th>\n",
       "      <th>authors</th>\n",
       "      <th>publisher</th>\n",
       "      <th>published_date</th>\n",
       "      <th>category</th>\n",
       "    </tr>\n",
       "  </thead>\n",
       "  <tbody>\n",
       "    <tr>\n",
       "      <th>0</th>\n",
       "      <td>9783319688374</td>\n",
       "      <td>Essentials of Business Analytics</td>\n",
       "      <td>An Introduction to the Methodology and its App...</td>\n",
       "      <td>Bhimasankaram Pochiraju, Sridhar Seshadri</td>\n",
       "      <td>Springer</td>\n",
       "      <td>7/10/2019</td>\n",
       "      <td>Business Analytics</td>\n",
       "    </tr>\n",
       "    <tr>\n",
       "      <th>1</th>\n",
       "      <td>9781466596092</td>\n",
       "      <td>Business Analytics</td>\n",
       "      <td>An Introduction</td>\n",
       "      <td>Jay Liebowitz</td>\n",
       "      <td>CRC Press</td>\n",
       "      <td>12/19/2013</td>\n",
       "      <td>Business Analytics</td>\n",
       "    </tr>\n",
       "    <tr>\n",
       "      <th>2</th>\n",
       "      <td>1292017430</td>\n",
       "      <td>Key Business Analytics</td>\n",
       "      <td>The 60+ Business Analysis Tools Every Manager ...</td>\n",
       "      <td>Bernard Marr</td>\n",
       "      <td>FT Press</td>\n",
       "      <td>1/18/2016</td>\n",
       "      <td>Business Analytics</td>\n",
       "    </tr>\n",
       "    <tr>\n",
       "      <th>3</th>\n",
       "      <td>9781119298588</td>\n",
       "      <td>Business Analytics for Managers</td>\n",
       "      <td>Taking Business Intelligence Beyond Reporting</td>\n",
       "      <td>Gert H. N. Laursen, Jesper Thorlund</td>\n",
       "      <td>John Wiley &amp; Sons</td>\n",
       "      <td>11/7/2016</td>\n",
       "      <td>Business Analytics</td>\n",
       "    </tr>\n",
       "    <tr>\n",
       "      <th>4</th>\n",
       "      <td>9781118572153</td>\n",
       "      <td>Data Mining and Business Analytics with R</td>\n",
       "      <td>NaN</td>\n",
       "      <td>Johannes Ledolter</td>\n",
       "      <td>John Wiley &amp; Sons</td>\n",
       "      <td>5/28/2013</td>\n",
       "      <td>Business Analytics</td>\n",
       "    </tr>\n",
       "  </tbody>\n",
       "</table>\n",
       "</div>"
      ],
      "text/plain": [
       "              id                                      title  \\\n",
       "0  9783319688374           Essentials of Business Analytics   \n",
       "1  9781466596092                         Business Analytics   \n",
       "2     1292017430                     Key Business Analytics   \n",
       "3  9781119298588            Business Analytics for Managers   \n",
       "4  9781118572153  Data Mining and Business Analytics with R   \n",
       "\n",
       "                                            subtitle  \\\n",
       "0  An Introduction to the Methodology and its App...   \n",
       "1                                    An Introduction   \n",
       "2  The 60+ Business Analysis Tools Every Manager ...   \n",
       "3      Taking Business Intelligence Beyond Reporting   \n",
       "4                                                NaN   \n",
       "\n",
       "                                     authors          publisher  \\\n",
       "0  Bhimasankaram Pochiraju, Sridhar Seshadri           Springer   \n",
       "1                              Jay Liebowitz          CRC Press   \n",
       "2                               Bernard Marr           FT Press   \n",
       "3        Gert H. N. Laursen, Jesper Thorlund  John Wiley & Sons   \n",
       "4                          Johannes Ledolter  John Wiley & Sons   \n",
       "\n",
       "  published_date            category  \n",
       "0      7/10/2019  Business Analytics  \n",
       "1     12/19/2013  Business Analytics  \n",
       "2      1/18/2016  Business Analytics  \n",
       "3      11/7/2016  Business Analytics  \n",
       "4      5/28/2013  Business Analytics  "
      ]
     },
     "execution_count": 3,
     "metadata": {},
     "output_type": "execute_result"
    }
   ],
   "source": [
    "# Load csv file as pandas dataframe\n",
    "\n",
    "details = pd.read_csv('data\\\\databook_details.csv')\n",
    "details.head()"
   ]
  },
  {
   "cell_type": "code",
   "execution_count": 2,
   "metadata": {},
   "outputs": [
    {
     "name": "stdout",
     "output_type": "stream",
     "text": [
      "The sql extension is already loaded. To reload it, use:\n",
      "  %reload_ext sql\n"
     ]
    },
    {
     "data": {
      "text/plain": [
       "'Connected: @data/data_science_books.db'"
      ]
     },
     "execution_count": 2,
     "metadata": {},
     "output_type": "execute_result"
    }
   ],
   "source": [
    "# Load SQL magic and connect to local database\n",
    "\n",
    "%load_ext sql\n",
    "%sql sqlite:///data/data_science_books.db"
   ]
  },
  {
   "attachments": {},
   "cell_type": "markdown",
   "metadata": {},
   "source": [
    "We have now connected to the data_science_books.db local database and can now query the database. The databse consists of tables with the names *details*, *description*, and *price*."
   ]
  },
  {
   "cell_type": "code",
   "execution_count": null,
   "metadata": {},
   "outputs": [],
   "source": []
  }
 ],
 "metadata": {
  "kernelspec": {
   "display_name": "ds",
   "language": "python",
   "name": "python3"
  },
  "language_info": {
   "codemirror_mode": {
    "name": "ipython",
    "version": 3
   },
   "file_extension": ".py",
   "mimetype": "text/x-python",
   "name": "python",
   "nbconvert_exporter": "python",
   "pygments_lexer": "ipython3",
   "version": "3.10.8"
  },
  "orig_nbformat": 4
 },
 "nbformat": 4,
 "nbformat_minor": 2
}
